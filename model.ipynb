{
 "cells": [
  {
   "cell_type": "markdown",
   "metadata": {},
   "source": [
    "<div>\n",
    "<h1>Solve Xporters traffic volume problem</h1>\n",
    "<em><font size=\"-2\">Organisers : Alexis de Russ&eacute;, Florian Bertelli, Gaspard Donada--Vidal, Ghassen Chaabane, Moez Ezzeddine, Ziheng Li</font></em>\n",
    "<hr>\n",
    "<figure><img src=\"./logo.jpg\", width=300, border=20 style=\"float:left;margin:5px\"></figure>\n",
    "<p><br>This code was tested with Python 3.7 |Anaconda custom (64-bit)| (Oct 01 2019, 11:07:29) (<a href=\"https://anaconda.org/\">https://anaconda.org/</a>).<br>\n",
    "<font size=\"-3\">ALL INFORMATION, SOFTWARE, DOCUMENTATION, AND DATA ARE PROVIDED \"AS-IS\". The CDS, CHALEARN, AND/OR OTHER ORGANIZERS OR CODE AUTHORS DISCLAIM ANY EXPRESSED OR IMPLIED WARRANTIES, INCLUDING, BUT NOT LIMITED TO, THE IMPLIED WARRANTIES OF MERCHANTABILITY AND FITNESS FOR ANY PARTICULAR PURPOSE, AND THE WARRANTY OF NON-INFRIGEMENT OF ANY THIRD PARTY'S INTELLECTUAL PROPERTY RIGHTS. IN NO EVENT SHALL AUTHORS AND ORGANIZERS BE LIABLE FOR ANY SPECIAL, INDIRECT OR CONSEQUENTIAL DAMAGES OR ANY DAMAGES WHATSOEVER ARISING OUT OF OR IN CONNECTION WITH THE USE OR PERFORMANCE OF SOFTWARE, DOCUMENTS, MATERIALS, PUBLICATIONS, OR INFORMATION MADE AVAILABLE FOR THE CHALLENGE. \n",
    "</font></p></div>"
   ]
  },
  {
   "cell_type": "markdown",
   "metadata": {},
   "source": [
    "<div>\n",
    "    <h2>Introduction </h2>\n",
    "    <p>\n",
    "With globalization, our world tends to be more and more connected, so this implies more and more transport. There\n",
    " are various types of transports: transports of goods, energy, information, or people.This century will be marked by a revolution in the transport of people. With the development of autonomous cars, more and more data will be collected: speed, location, population,etc. The challenge is to get value from this. As the number of cars, and particularly autonomous cars tends to grow, we'll need to deal with an increasing traffic flow to avoid huge traffic jams. Indeed, some experts pretend that autonomous vehicles will be able to reduce travelling timeup to 30%, even if the world traffic increases of 10%.\n",
    "But how is it possible to reduce travelling time and traffic jams if the number of vehicles increases ? Thanks to prediction. <br>\n",
    "        In fact, prediction will be the key to determine the fastest way to get you from your home to your work, without getting in traffic jams. Predictions may also be used to determine which transportation infrastructures to\n",
    "build.\n",
    "            <p>\n",
    "Xporters challenge is a small standard multivariable regression data set from the <a href=\"http://archive.ics.uci.edu/ml/datasets/\">UCI Machine Learning Repository</a>, formatted in the AutoML format. It uses a data set concerning the traffic volume off an highway in the USA from 2012 to 2018, the date, and some informations about the weather. The aim of this challenge is to predict the traffic volume thanks to this features\n"
   ]
  },
  {
   "cell_type": "code",
   "execution_count": 3,
   "metadata": {},
   "outputs": [],
   "source": [
    "from sys import path\n",
    "import matplotlib.pyplot as plt\n",
    "import seaborn as sns\n",
    "import warnings\n",
    "import numpy as np\n",
    "import pandas as pd\n",
    "warnings.simplefilter(action='ignore', category=FutureWarning)"
   ]
  },
  {
   "cell_type": "code",
   "execution_count": 4,
   "metadata": {},
   "outputs": [],
   "source": [
    "model_dir = './sample_code_submission/'                        # Change the model to a better one once you have one!\n",
    "#model_dir = '../FILES/pretty_good_sample_code_submission/'\n",
    "result_dir = './sample_result_submission/' \n",
    "problem_dir = './ingestion_program/'  \n",
    "score_dir = './scoring_program/'\n",
    "path.append(model_dir); path.append(problem_dir); path.append(score_dir); \n",
    "%matplotlib inline\n",
    "# Uncomment the next lines to auto-reload libraries (this causes some problem with pickles in Python 3)\n",
    "%load_ext autoreload\n",
    "%autoreload 2\n",
    "sns.set()"
   ]
  },
  {
   "cell_type": "code",
   "execution_count": 5,
   "metadata": {},
   "outputs": [
    {
     "name": "stdout",
     "output_type": "stream",
     "text": [
      "/Users/shuangruichen/Desktop/Mini Projet/Segway-master/starting_kit\n",
      "xporters_feat.name      xporters_test.data      xporters_valid.data\n",
      "xporters_private.info   xporters_train.data\n",
      "xporters_public.info    xporters_train.solution\n"
     ]
    }
   ],
   "source": [
    "from data_io import read_as_df\n",
    "#data_dir = 'input_data'        # Change this to the directory where you put the input data\n",
    "data_dir = './all_data'          # The sample_data directory should contain only a very small subset of the data\n",
    "data_name = 'xporters'\n",
    "!pwd\n",
    "!ls $data_dir*"
   ]
  },
  {
   "cell_type": "code",
   "execution_count": 6,
   "metadata": {},
   "outputs": [
    {
     "name": "stdout",
     "output_type": "stream",
     "text": [
      "Info file found : /Users/shuangruichen/Desktop/Mini Projet/Segway-master/starting_kit/all_data/xporters_public.info\n",
      "DataManager : xporters\n",
      "info:\n",
      "\tusage = Sample dataset Traffic Volume data\n",
      "\tname = traffic\n",
      "\ttask = regression\n",
      "\ttarget_type = Numerical\n",
      "\tfeat_type = Numerical\n",
      "\tmetric = r2_metric\n",
      "\ttime_budget = 1200\n",
      "\tfeat_num = 59\n",
      "\ttarget_num = 3\n",
      "\tlabel_num = 3\n",
      "\ttrain_num = 35\n",
      "\tvalid_num = 35\n",
      "\ttest_num = 35\n",
      "\thas_categorical = 0\n",
      "\thas_missing = 0\n",
      "\tis_sparse = 0\n",
      "\tformat = dense\n",
      "data:\n",
      "\tX_train = array(38563, 59)\n",
      "\tY_train = array(38563,)\n",
      "\tX_valid = array(4820, 59)\n",
      "\tY_valid = array(0,)\n",
      "\tX_test = array(4820, 59)\n",
      "\tY_test = array(0,)\n",
      "feat_type:\tarray(59,)\n",
      "feat_idx:\tarray(0,)\n",
      "\n"
     ]
    }
   ],
   "source": [
    "from data_manager import DataManager\n",
    "D = DataManager(data_name, data_dir, replace_missing=True)\n",
    "print(D)"
   ]
  },
  {
   "cell_type": "markdown",
   "metadata": {},
   "source": [
    "For convenience, we load the data as a \"pandas\" data frame, so we can use \"pandas\" and \"seaborn\" built in functions to explore the data."
   ]
  },
  {
   "cell_type": "code",
   "execution_count": 7,
   "metadata": {},
   "outputs": [
    {
     "name": "stdout",
     "output_type": "stream",
     "text": [
      "Reading ./all_data/xporters_train from AutoML format\n",
      "Number of examples = 38563\n",
      "Number of features = 59\n"
     ]
    }
   ],
   "source": [
    "data = read_as_df(data_dir  + '/' + data_name)             # The data are loaded as a Pandas Data Frame"
   ]
  },
  {
   "cell_type": "code",
   "execution_count": 8,
   "metadata": {
    "scrolled": true
   },
   "outputs": [
    {
     "data": {
      "text/html": [
       "<div>\n",
       "<style scoped>\n",
       "    .dataframe tbody tr th:only-of-type {\n",
       "        vertical-align: middle;\n",
       "    }\n",
       "\n",
       "    .dataframe tbody tr th {\n",
       "        vertical-align: top;\n",
       "    }\n",
       "\n",
       "    .dataframe thead th {\n",
       "        text-align: right;\n",
       "    }\n",
       "</style>\n",
       "<table border=\"1\" class=\"dataframe\">\n",
       "  <thead>\n",
       "    <tr style=\"text-align: right;\">\n",
       "      <th></th>\n",
       "      <th>holiday</th>\n",
       "      <th>temp</th>\n",
       "      <th>rain_1h</th>\n",
       "      <th>snow_1h</th>\n",
       "      <th>clouds_all</th>\n",
       "      <th>oil_prices</th>\n",
       "      <th>weekday</th>\n",
       "      <th>hour</th>\n",
       "      <th>month</th>\n",
       "      <th>year</th>\n",
       "      <th>...</th>\n",
       "      <th>weather_description_smoke</th>\n",
       "      <th>weather_description_snow</th>\n",
       "      <th>weather_description_thunderstorm</th>\n",
       "      <th>weather_description_thunderstorm_with_drizzle</th>\n",
       "      <th>weather_description_thunderstorm_with_heavy_rain</th>\n",
       "      <th>weather_description_thunderstorm_with_light_drizzle</th>\n",
       "      <th>weather_description_thunderstorm_with_light_rain</th>\n",
       "      <th>weather_description_thunderstorm_with_rain</th>\n",
       "      <th>weather_description_very_heavy_rain</th>\n",
       "      <th>target</th>\n",
       "    </tr>\n",
       "  </thead>\n",
       "  <tbody>\n",
       "    <tr>\n",
       "      <th>count</th>\n",
       "      <td>38563.000000</td>\n",
       "      <td>38563.000000</td>\n",
       "      <td>38563.000000</td>\n",
       "      <td>38563.000000</td>\n",
       "      <td>38563.000000</td>\n",
       "      <td>38563.000000</td>\n",
       "      <td>38563.000000</td>\n",
       "      <td>38563.000000</td>\n",
       "      <td>38563.000000</td>\n",
       "      <td>38563.000000</td>\n",
       "      <td>...</td>\n",
       "      <td>38563.000000</td>\n",
       "      <td>38563.000000</td>\n",
       "      <td>38563.000000</td>\n",
       "      <td>38563.000000</td>\n",
       "      <td>38563.000000</td>\n",
       "      <td>38563.000000</td>\n",
       "      <td>38563.000000</td>\n",
       "      <td>38563.000000</td>\n",
       "      <td>38563.000000</td>\n",
       "      <td>38563.000000</td>\n",
       "    </tr>\n",
       "    <tr>\n",
       "      <th>mean</th>\n",
       "      <td>0.001245</td>\n",
       "      <td>281.197804</td>\n",
       "      <td>0.379081</td>\n",
       "      <td>0.000203</td>\n",
       "      <td>49.350284</td>\n",
       "      <td>80.079942</td>\n",
       "      <td>2.984311</td>\n",
       "      <td>11.408578</td>\n",
       "      <td>6.518009</td>\n",
       "      <td>2015.510645</td>\n",
       "      <td>...</td>\n",
       "      <td>0.000337</td>\n",
       "      <td>0.005990</td>\n",
       "      <td>0.002515</td>\n",
       "      <td>0.000052</td>\n",
       "      <td>0.001167</td>\n",
       "      <td>0.000363</td>\n",
       "      <td>0.001193</td>\n",
       "      <td>0.000856</td>\n",
       "      <td>0.000415</td>\n",
       "      <td>3258.740788</td>\n",
       "    </tr>\n",
       "    <tr>\n",
       "      <th>std</th>\n",
       "      <td>0.035259</td>\n",
       "      <td>13.239935</td>\n",
       "      <td>50.073028</td>\n",
       "      <td>0.007602</td>\n",
       "      <td>39.029958</td>\n",
       "      <td>9.992938</td>\n",
       "      <td>2.003339</td>\n",
       "      <td>6.947282</td>\n",
       "      <td>3.405988</td>\n",
       "      <td>1.892133</td>\n",
       "      <td>...</td>\n",
       "      <td>0.018358</td>\n",
       "      <td>0.077165</td>\n",
       "      <td>0.050091</td>\n",
       "      <td>0.007202</td>\n",
       "      <td>0.034141</td>\n",
       "      <td>0.019050</td>\n",
       "      <td>0.034518</td>\n",
       "      <td>0.029241</td>\n",
       "      <td>0.020365</td>\n",
       "      <td>1987.121630</td>\n",
       "    </tr>\n",
       "    <tr>\n",
       "      <th>min</th>\n",
       "      <td>0.000000</td>\n",
       "      <td>0.000000</td>\n",
       "      <td>0.000000</td>\n",
       "      <td>0.000000</td>\n",
       "      <td>0.000000</td>\n",
       "      <td>38.724760</td>\n",
       "      <td>0.000000</td>\n",
       "      <td>0.000000</td>\n",
       "      <td>1.000000</td>\n",
       "      <td>2012.000000</td>\n",
       "      <td>...</td>\n",
       "      <td>0.000000</td>\n",
       "      <td>0.000000</td>\n",
       "      <td>0.000000</td>\n",
       "      <td>0.000000</td>\n",
       "      <td>0.000000</td>\n",
       "      <td>0.000000</td>\n",
       "      <td>0.000000</td>\n",
       "      <td>0.000000</td>\n",
       "      <td>0.000000</td>\n",
       "      <td>0.000000</td>\n",
       "    </tr>\n",
       "    <tr>\n",
       "      <th>25%</th>\n",
       "      <td>0.000000</td>\n",
       "      <td>272.160000</td>\n",
       "      <td>0.000000</td>\n",
       "      <td>0.000000</td>\n",
       "      <td>1.000000</td>\n",
       "      <td>73.343967</td>\n",
       "      <td>1.000000</td>\n",
       "      <td>5.000000</td>\n",
       "      <td>4.000000</td>\n",
       "      <td>2014.000000</td>\n",
       "      <td>...</td>\n",
       "      <td>0.000000</td>\n",
       "      <td>0.000000</td>\n",
       "      <td>0.000000</td>\n",
       "      <td>0.000000</td>\n",
       "      <td>0.000000</td>\n",
       "      <td>0.000000</td>\n",
       "      <td>0.000000</td>\n",
       "      <td>0.000000</td>\n",
       "      <td>0.000000</td>\n",
       "      <td>1195.000000</td>\n",
       "    </tr>\n",
       "    <tr>\n",
       "      <th>50%</th>\n",
       "      <td>0.000000</td>\n",
       "      <td>282.341000</td>\n",
       "      <td>0.000000</td>\n",
       "      <td>0.000000</td>\n",
       "      <td>64.000000</td>\n",
       "      <td>80.134711</td>\n",
       "      <td>3.000000</td>\n",
       "      <td>11.000000</td>\n",
       "      <td>7.000000</td>\n",
       "      <td>2016.000000</td>\n",
       "      <td>...</td>\n",
       "      <td>0.000000</td>\n",
       "      <td>0.000000</td>\n",
       "      <td>0.000000</td>\n",
       "      <td>0.000000</td>\n",
       "      <td>0.000000</td>\n",
       "      <td>0.000000</td>\n",
       "      <td>0.000000</td>\n",
       "      <td>0.000000</td>\n",
       "      <td>0.000000</td>\n",
       "      <td>3377.000000</td>\n",
       "    </tr>\n",
       "    <tr>\n",
       "      <th>75%</th>\n",
       "      <td>0.000000</td>\n",
       "      <td>291.790000</td>\n",
       "      <td>0.000000</td>\n",
       "      <td>0.000000</td>\n",
       "      <td>90.000000</td>\n",
       "      <td>86.771668</td>\n",
       "      <td>5.000000</td>\n",
       "      <td>17.000000</td>\n",
       "      <td>9.000000</td>\n",
       "      <td>2017.000000</td>\n",
       "      <td>...</td>\n",
       "      <td>0.000000</td>\n",
       "      <td>0.000000</td>\n",
       "      <td>0.000000</td>\n",
       "      <td>0.000000</td>\n",
       "      <td>0.000000</td>\n",
       "      <td>0.000000</td>\n",
       "      <td>0.000000</td>\n",
       "      <td>0.000000</td>\n",
       "      <td>0.000000</td>\n",
       "      <td>4933.000000</td>\n",
       "    </tr>\n",
       "    <tr>\n",
       "      <th>max</th>\n",
       "      <td>1.000000</td>\n",
       "      <td>310.070000</td>\n",
       "      <td>9831.300000</td>\n",
       "      <td>0.510000</td>\n",
       "      <td>100.000000</td>\n",
       "      <td>128.465356</td>\n",
       "      <td>6.000000</td>\n",
       "      <td>23.000000</td>\n",
       "      <td>12.000000</td>\n",
       "      <td>2018.000000</td>\n",
       "      <td>...</td>\n",
       "      <td>1.000000</td>\n",
       "      <td>1.000000</td>\n",
       "      <td>1.000000</td>\n",
       "      <td>1.000000</td>\n",
       "      <td>1.000000</td>\n",
       "      <td>1.000000</td>\n",
       "      <td>1.000000</td>\n",
       "      <td>1.000000</td>\n",
       "      <td>1.000000</td>\n",
       "      <td>7260.000000</td>\n",
       "    </tr>\n",
       "  </tbody>\n",
       "</table>\n",
       "<p>8 rows × 60 columns</p>\n",
       "</div>"
      ],
      "text/plain": [
       "            holiday          temp       rain_1h       snow_1h    clouds_all  \\\n",
       "count  38563.000000  38563.000000  38563.000000  38563.000000  38563.000000   \n",
       "mean       0.001245    281.197804      0.379081      0.000203     49.350284   \n",
       "std        0.035259     13.239935     50.073028      0.007602     39.029958   \n",
       "min        0.000000      0.000000      0.000000      0.000000      0.000000   \n",
       "25%        0.000000    272.160000      0.000000      0.000000      1.000000   \n",
       "50%        0.000000    282.341000      0.000000      0.000000     64.000000   \n",
       "75%        0.000000    291.790000      0.000000      0.000000     90.000000   \n",
       "max        1.000000    310.070000   9831.300000      0.510000    100.000000   \n",
       "\n",
       "         oil_prices       weekday          hour         month          year  \\\n",
       "count  38563.000000  38563.000000  38563.000000  38563.000000  38563.000000   \n",
       "mean      80.079942      2.984311     11.408578      6.518009   2015.510645   \n",
       "std        9.992938      2.003339      6.947282      3.405988      1.892133   \n",
       "min       38.724760      0.000000      0.000000      1.000000   2012.000000   \n",
       "25%       73.343967      1.000000      5.000000      4.000000   2014.000000   \n",
       "50%       80.134711      3.000000     11.000000      7.000000   2016.000000   \n",
       "75%       86.771668      5.000000     17.000000      9.000000   2017.000000   \n",
       "max      128.465356      6.000000     23.000000     12.000000   2018.000000   \n",
       "\n",
       "       ...  weather_description_smoke  weather_description_snow  \\\n",
       "count  ...               38563.000000              38563.000000   \n",
       "mean   ...                   0.000337                  0.005990   \n",
       "std    ...                   0.018358                  0.077165   \n",
       "min    ...                   0.000000                  0.000000   \n",
       "25%    ...                   0.000000                  0.000000   \n",
       "50%    ...                   0.000000                  0.000000   \n",
       "75%    ...                   0.000000                  0.000000   \n",
       "max    ...                   1.000000                  1.000000   \n",
       "\n",
       "       weather_description_thunderstorm  \\\n",
       "count                      38563.000000   \n",
       "mean                           0.002515   \n",
       "std                            0.050091   \n",
       "min                            0.000000   \n",
       "25%                            0.000000   \n",
       "50%                            0.000000   \n",
       "75%                            0.000000   \n",
       "max                            1.000000   \n",
       "\n",
       "       weather_description_thunderstorm_with_drizzle  \\\n",
       "count                                   38563.000000   \n",
       "mean                                        0.000052   \n",
       "std                                         0.007202   \n",
       "min                                         0.000000   \n",
       "25%                                         0.000000   \n",
       "50%                                         0.000000   \n",
       "75%                                         0.000000   \n",
       "max                                         1.000000   \n",
       "\n",
       "       weather_description_thunderstorm_with_heavy_rain  \\\n",
       "count                                      38563.000000   \n",
       "mean                                           0.001167   \n",
       "std                                            0.034141   \n",
       "min                                            0.000000   \n",
       "25%                                            0.000000   \n",
       "50%                                            0.000000   \n",
       "75%                                            0.000000   \n",
       "max                                            1.000000   \n",
       "\n",
       "       weather_description_thunderstorm_with_light_drizzle  \\\n",
       "count                                       38563.000000     \n",
       "mean                                            0.000363     \n",
       "std                                             0.019050     \n",
       "min                                             0.000000     \n",
       "25%                                             0.000000     \n",
       "50%                                             0.000000     \n",
       "75%                                             0.000000     \n",
       "max                                             1.000000     \n",
       "\n",
       "       weather_description_thunderstorm_with_light_rain  \\\n",
       "count                                      38563.000000   \n",
       "mean                                           0.001193   \n",
       "std                                            0.034518   \n",
       "min                                            0.000000   \n",
       "25%                                            0.000000   \n",
       "50%                                            0.000000   \n",
       "75%                                            0.000000   \n",
       "max                                            1.000000   \n",
       "\n",
       "       weather_description_thunderstorm_with_rain  \\\n",
       "count                                38563.000000   \n",
       "mean                                     0.000856   \n",
       "std                                      0.029241   \n",
       "min                                      0.000000   \n",
       "25%                                      0.000000   \n",
       "50%                                      0.000000   \n",
       "75%                                      0.000000   \n",
       "max                                      1.000000   \n",
       "\n",
       "       weather_description_very_heavy_rain        target  \n",
       "count                         38563.000000  38563.000000  \n",
       "mean                              0.000415   3258.740788  \n",
       "std                               0.020365   1987.121630  \n",
       "min                               0.000000      0.000000  \n",
       "25%                               0.000000   1195.000000  \n",
       "50%                               0.000000   3377.000000  \n",
       "75%                               0.000000   4933.000000  \n",
       "max                               1.000000   7260.000000  \n",
       "\n",
       "[8 rows x 60 columns]"
      ]
     },
     "execution_count": 8,
     "metadata": {},
     "output_type": "execute_result"
    }
   ],
   "source": [
    "data.describe() "
   ]
  },
  {
   "cell_type": "code",
   "execution_count": 9,
   "metadata": {},
   "outputs": [],
   "source": [
    "# import all needed models\n",
    "from data_io import write\n",
    "from model import model\n",
    "from sklearn import linear_model\n",
    "from sklearn.metrics import r2_score as sklearn_metric\n",
    "from sklearn.model_selection import cross_val_score\n",
    "from sklearn.tree import DecisionTreeRegressor\n",
    "from sklearn.model_selection import GridSearchCV\n",
    "from sklearn import svm\n",
    "from sklearn.kernel_ridge import KernelRidge\n",
    "from sklearn.neighbors import KNeighborsRegressor\n",
    "from sklearn.ensemble import RandomForestRegressor\n",
    "from sklearn.ensemble import GradientBoostingRegressor\n",
    "from sklearn.tree import ExtraTreeRegressor\n",
    "from sklearn import linear_model\n",
    "from sklearn.gaussian_process import GaussianProcessRegressor\n",
    "from sklearn.gaussian_process.kernels import DotProduct, WhiteKernel\n",
    "from sklearn.linear_model import ElasticNet\n",
    "from sklearn.linear_model import LinearRegression\n",
    "from sklearn.ensemble import VotingRegressor\n",
    "from sklearn.ensemble import StackingRegressor"
   ]
  },
  {
   "cell_type": "code",
   "execution_count": 12,
   "metadata": {},
   "outputs": [],
   "source": [
    "X_train = D.data['X_train']\n",
    "Y_train = D.data['Y_train']\n",
    "X_valid = D.data['X_valid']\n",
    "X_test_para = X_train[0:5000]\n",
    "Y_test_para = Y_train[0:5000]"
   ]
  },
  {
   "cell_type": "code",
   "execution_count": 25,
   "metadata": {},
   "outputs": [
    {
     "name": "stdout",
     "output_type": "stream",
     "text": [
      "Best parameters for linear Ridge model:\n",
      "{'alpha': 77.53846153846153}\n",
      "Best parameters for linear Lasso model:\n",
      "{'alpha': 5.384615384615385}\n",
      "Best parameters for Kernel Ridge Regression:\n",
      "{'alpha': 300.0}\n"
     ]
    }
   ],
   "source": [
    "'''\n",
    "We have chosen 2 linear model, we know already our data are complete and \n",
    "influenced by multiple features. Then linear model won't have a big chance to suit such a case.\n",
    "So we use these 2 models just for test our GridSearchCV code.\n",
    "'''\n",
    "\n",
    "# We choice alpha as most important parameter for all linear model according to obvious reasson \n",
    "# y = a*x + c\n",
    "\n",
    "# Find best parameters for linear Ridge model\n",
    "parameters = {'alpha':np.linspace(1,200,40)}\n",
    "# As our data and result are all continuous numbers in R, so we didn't choice to normalize\n",
    "classifier = linear_model.Ridge()\n",
    "search = GridSearchCV(classifier, parameters)\n",
    "search.fit(X_test_para,Y_test_para)\n",
    "print(\"Best parameters for linear Ridge model:\")\n",
    "print(search.best_params_)\n",
    "\n",
    "# Find best parameters for linear Lasso model\n",
    "parameters = {'alpha':np.linspace(1,10,40)}\n",
    "# We choice alpha as most important parameter for all linear model\n",
    "classifier = linear_model.Lasso()\n",
    "search = GridSearchCV(classifier, parameters)\n",
    "search.fit(X_test_para,Y_test_para)\n",
    "print(\"Best parameters for linear Lasso model:\")\n",
    "print(search.best_params_)\n",
    "\n",
    "# Find best parameters for Kernel Ridge Regression\n",
    "parameters = {'alpha':np.linspace(300,400,10)}\n",
    "classifier = KernelRidge()\n",
    "search = GridSearchCV(classifier, parameters)\n",
    "search.fit(X_test_para,Y_test_para)\n",
    "print(\"Best parameters for Kernel Ridge Regression:\")\n",
    "print(search.best_params_)"
   ]
  },
  {
   "cell_type": "code",
   "execution_count": 32,
   "metadata": {},
   "outputs": [
    {
     "name": "stdout",
     "output_type": "stream",
     "text": [
      "Best parameters for Decision Tree Regressor:\n",
      "{'criterion': 'mse', 'max_depth': 3, 'max_features': 'auto', 'random_state': 2, 'splitter': 'best'}\n"
     ]
    }
   ],
   "source": [
    "'''\n",
    "For Decision Tree Regressor or Random Forest Regressor, we believe the most important\n",
    "paramter is the depth of the tree, and for others like nombres of estimator and criterion\n",
    "don't influence that much under the case of our data.\n",
    "'''\n",
    "# Find best parameters for Decision Tree Regressor\n",
    "parameters = {'max_depth':range(2,4),\n",
    "              'criterion':(\"mse\", \"mae\"), \n",
    "              'splitter':(\"best\", \"random\"),\n",
    "              'max_features':['auto', 'sqrt', 'log2'],\n",
    "              'random_state':range(2,4)}\n",
    "classifier = DecisionTreeRegressor()\n",
    "search = GridSearchCV(classifier, parameters)\n",
    "search.fit(X_test_para,Y_test_para)\n",
    "print(\"Best parameters for Decision Tree Regressor:\")\n",
    "print(search.best_params_)"
   ]
  },
  {
   "cell_type": "code",
   "execution_count": 33,
   "metadata": {},
   "outputs": [
    {
     "name": "stdout",
     "output_type": "stream",
     "text": [
      "Best parameters for Random Forest Regressor:\n",
      "{'max_depth': 9, 'random_state': 2}\n"
     ]
    }
   ],
   "source": [
    "parameters = {'random_state':range(1,3), \n",
    "              'max_depth':range(8,10)}\n",
    "classifier = RandomForestRegressor()\n",
    "search = GridSearchCV(classifier, parameters)\n",
    "search.fit(X_test_para,Y_test_para)\n",
    "print(\"Best parameters for Random Forest Regressor:\")\n",
    "print(search.best_params_)"
   ]
  },
  {
   "cell_type": "code",
   "execution_count": 30,
   "metadata": {},
   "outputs": [
    {
     "name": "stdout",
     "output_type": "stream",
     "text": [
      "Best parameters for KNeighbors Regressor:\n",
      "{'n_neighbors': 5}\n"
     ]
    }
   ],
   "source": [
    "# Find best parameters for KNeighbors Regressor\n",
    "'''\n",
    "A trafic circumstance is usually complete. We don't think simply combine datas near each other \n",
    "in a euclidean space could suit such a problem, but our GridSearchCV do find a best number of neighbors\n",
    "which we think is not enough pratical.\n",
    "'''\n",
    "parameters = {'n_neighbors':range(2,10)}\n",
    "classifier = KNeighborsRegressor()\n",
    "search = GridSearchCV(classifier, parameters)\n",
    "search.fit(X_test_para,Y_test_para)\n",
    "print(\"Best parameters for KNeighbors Regressor:\")\n",
    "print(search.best_params_)"
   ]
  },
  {
   "cell_type": "code",
   "execution_count": 36,
   "metadata": {},
   "outputs": [
    {
     "name": "stdout",
     "output_type": "stream",
     "text": [
      "Best parameters for Gradient Boosting Regressor:\n",
      "{'random_state': 1}\n"
     ]
    }
   ],
   "source": [
    "# Find best parameters for Gradient Boosting Regressor\n",
    "'''\n",
    "We don't understand quite well of this model, we think this is a kind of gradient descent methode,\n",
    "we are not sur our data can be described as a gardient desscent problems. But there might be a\n",
    "fonction complete enough to suit our model. So we decide to give it a try.\n",
    "'''\n",
    "parameters = {'random_state':range(1,4)}\n",
    "classifier = GradientBoostingRegressor()\n",
    "search = GridSearchCV(classifier, parameters)\n",
    "search.fit(X_test_para,Y_test_para)\n",
    "print(\"Best parameters for Gradient Boosting Regressor:\")\n",
    "print(search.best_params_)"
   ]
  },
  {
   "cell_type": "code",
   "execution_count": 13,
   "metadata": {},
   "outputs": [],
   "source": [
    "# Here we put all models analyed together to compare\n",
    "\n",
    "'''\n",
    "VotingRegressor means that three models combine together to predict a data. Here we chose \n",
    "'''\n",
    "\n",
    "voter1 = GradientBoostingRegressor(random_state=1)\n",
    "voter2 = RandomForestRegressor(random_state=2)\n",
    "voter3 = DecisionTreeRegressor(random_state=2)\n",
    "\n",
    "model_name = [\n",
    "    'KNeighbors',\n",
    "    'SVR',\n",
    "    'GaussianProcess',\n",
    "    'ElasticNet',\n",
    "    'DecisionTree',\n",
    "    'RandomForest',\n",
    "    'GradientBoosting',\n",
    "    'Voting - GB - DT',\n",
    "    'Voting - GB - DT - RF',\n",
    "    'Stacking - GB - DT - RF']\n",
    "\n",
    "model_list = [                                                      \n",
    "    KNeighborsRegressor(n_neighbors=5),\n",
    "    svm.SVR(),\n",
    "    GaussianProcessRegressor(kernel=DotProduct() + WhiteKernel(),random_state=0), \n",
    "    ElasticNet(random_state=0),\n",
    "    DecisionTreeRegressor(random_state=2),\n",
    "    RandomForestRegressor(max_depth=9, random_state=2),\n",
    "    GradientBoostingRegressor(random_state=1),\n",
    "    VotingRegressor(estimators=[('gb', voter1), ('lr', voter3)]),\n",
    "    VotingRegressor(estimators=[('gb', voter1), ('rf', voter2), ('lr', voter3)]),\n",
    "    StackingRegressor(estimators=[('gb', voter1), ('rf', voter2), ('lr', voter3)])]"
   ]
  },
  {
   "cell_type": "code",
   "execution_count": 16,
   "metadata": {},
   "outputs": [
    {
     "data": {
      "text/html": [
       "<style  type=\"text/css\" >\n",
       "</style><table id=\"T_ba35d376_7046_11ea_ba8d_784f436f0e17\" ><thead>    <tr>        <th class=\"blank level0\" ></th>        <th class=\"col_heading level0 col0\" >model perf</th>    </tr></thead><tbody>\n",
       "                <tr>\n",
       "                        <th id=\"T_ba35d376_7046_11ea_ba8d_784f436f0e17level0_row0\" class=\"row_heading level0 row0\" >KNeighbors</th>\n",
       "                        <td id=\"T_ba35d376_7046_11ea_ba8d_784f436f0e17row0_col0\" class=\"data row0 col0\" >0.707741</td>\n",
       "            </tr>\n",
       "            <tr>\n",
       "                        <th id=\"T_ba35d376_7046_11ea_ba8d_784f436f0e17level0_row1\" class=\"row_heading level0 row1\" >SVR</th>\n",
       "                        <td id=\"T_ba35d376_7046_11ea_ba8d_784f436f0e17row1_col0\" class=\"data row1 col0\" >-0.001777</td>\n",
       "            </tr>\n",
       "            <tr>\n",
       "                        <th id=\"T_ba35d376_7046_11ea_ba8d_784f436f0e17level0_row2\" class=\"row_heading level0 row2\" >GaussianProcess</th>\n",
       "                        <td id=\"T_ba35d376_7046_11ea_ba8d_784f436f0e17row2_col0\" class=\"data row2 col0\" >0.112257</td>\n",
       "            </tr>\n",
       "            <tr>\n",
       "                        <th id=\"T_ba35d376_7046_11ea_ba8d_784f436f0e17level0_row3\" class=\"row_heading level0 row3\" >ElasticNet</th>\n",
       "                        <td id=\"T_ba35d376_7046_11ea_ba8d_784f436f0e17row3_col0\" class=\"data row3 col0\" >0.161813</td>\n",
       "            </tr>\n",
       "            <tr>\n",
       "                        <th id=\"T_ba35d376_7046_11ea_ba8d_784f436f0e17level0_row4\" class=\"row_heading level0 row4\" >DecisionTree</th>\n",
       "                        <td id=\"T_ba35d376_7046_11ea_ba8d_784f436f0e17row4_col0\" class=\"data row4 col0\" >1.000000</td>\n",
       "            </tr>\n",
       "            <tr>\n",
       "                        <th id=\"T_ba35d376_7046_11ea_ba8d_784f436f0e17level0_row5\" class=\"row_heading level0 row5\" >RandomForest</th>\n",
       "                        <td id=\"T_ba35d376_7046_11ea_ba8d_784f436f0e17row5_col0\" class=\"data row5 col0\" >0.972539</td>\n",
       "            </tr>\n",
       "            <tr>\n",
       "                        <th id=\"T_ba35d376_7046_11ea_ba8d_784f436f0e17level0_row6\" class=\"row_heading level0 row6\" >GradientBoosting</th>\n",
       "                        <td id=\"T_ba35d376_7046_11ea_ba8d_784f436f0e17row6_col0\" class=\"data row6 col0\" >0.932471</td>\n",
       "            </tr>\n",
       "            <tr>\n",
       "                        <th id=\"T_ba35d376_7046_11ea_ba8d_784f436f0e17level0_row7\" class=\"row_heading level0 row7\" >Voting - GB - DT</th>\n",
       "                        <td id=\"T_ba35d376_7046_11ea_ba8d_784f436f0e17row7_col0\" class=\"data row7 col0\" >0.983118</td>\n",
       "            </tr>\n",
       "            <tr>\n",
       "                        <th id=\"T_ba35d376_7046_11ea_ba8d_784f436f0e17level0_row8\" class=\"row_heading level0 row8\" >Voting - GB - DT - RF</th>\n",
       "                        <td id=\"T_ba35d376_7046_11ea_ba8d_784f436f0e17row8_col0\" class=\"data row8 col0\" >0.987621</td>\n",
       "            </tr>\n",
       "            <tr>\n",
       "                        <th id=\"T_ba35d376_7046_11ea_ba8d_784f436f0e17level0_row9\" class=\"row_heading level0 row9\" >Stacking - GB - DT - RF</th>\n",
       "                        <td id=\"T_ba35d376_7046_11ea_ba8d_784f436f0e17row9_col0\" class=\"data row9 col0\" >0.982578</td>\n",
       "            </tr>\n",
       "    </tbody></table>"
      ],
      "text/plain": [
       "<pandas.io.formats.style.Styler at 0x1a1e7b3e50>"
      ]
     },
     "execution_count": 16,
     "metadata": {},
     "output_type": "execute_result"
    }
   ],
   "source": [
    "# Here we put all the best params for all Regressor\n",
    "nb_data = 2000 # Insufficient computing power, so we take just 2000 samples\n",
    "nb_model = len(model_list)\n",
    "Perf_tr = np.zeros([nb_model,1])\n",
    "for i in range(nb_model):\n",
    "    model_list[i].fit(X_train[0:nb_data],Y_train[0:nb_data])\n",
    "    Ytrain_predicted = model_list[i].predict(X_train[0:nb_data])\n",
    "    Perf_tr[i] = sklearn_metric(Y_train[0:nb_data], Ytrain_predicted)\n",
    "res = pd.DataFrame(columns=['model perf'],index=model_name)\n",
    "for n,m in zip(model_name,Perf_tr):\n",
    "    res.loc[n] = m\n",
    "res.style.background_gradient(cmap='Blues')"
   ]
  },
  {
   "cell_type": "code",
   "execution_count": 17,
   "metadata": {},
   "outputs": [
    {
     "data": {
      "text/plain": [
       "array([[ 713.5347995 , 3922.67384864, 3485.72230632, ..., 6098.09631783,\n",
       "        4049.555563  , 5054.22994805],\n",
       "       [ 759.        , 4085.        , 3528.        , ..., 6591.        ,\n",
       "        4366.        , 5240.        ]])"
      ]
     },
     "execution_count": 17,
     "metadata": {},
     "output_type": "execute_result"
    }
   ],
   "source": [
    "# View the best model's result\n",
    "best = model_list[7]\n",
    "best.fit(X_train,Y_train)\n",
    "Y_hat_train = best.predict(X_train)\n",
    "np.vstack((Y_hat_train,Y_train))"
   ]
  },
  {
   "cell_type": "code",
   "execution_count": 18,
   "metadata": {},
   "outputs": [
    {
     "name": "stdout",
     "output_type": "stream",
     "text": [
      "/Users/shuangruichen/Desktop/Mini Projet/Segway-master/starting_kit\n",
      "./sample_code_submission/xporters\n"
     ]
    }
   ],
   "source": [
    "# test model from model.py\n",
    "M = model()\n",
    "trained_model_name = model_dir + data_name\n",
    "!pwd\n",
    "# Uncomment the next line to re-load an already trained model\n",
    "print(trained_model_name)\n",
    "#M = M.load(trained_model_name)\n",
    "X_train = D.data['X_train']\n",
    "Y_train = D.data['Y_train']\n",
    "X_valid = D.data['X_valid']\n",
    "if not(M.is_trained) : M.fit(X_train, Y_train)                     \n",
    "Y_hat_train = M.predict(D.data['X_train']) # Optional, not really needed to test on taining examples\n",
    "Y_hat_valid = M.predict(D.data['X_valid'])\n",
    "Y_hat_test = M.predict(D.data['X_test'])"
   ]
  },
  {
   "cell_type": "markdown",
   "metadata": {},
   "source": [
    "<div>\n",
    "    <b> Save the trained model </b> (will be ready to reload next time around) and save the prediction results. IMPORTANT: if you save the trained model, it will be bundled with your sample code submission. Therefore your model will NOT be retrained on the challenge platform. Remove the pickle from the submission if you want the model to be retrained on the platform.\n",
    "</div>"
   ]
  },
  {
   "cell_type": "code",
   "execution_count": 19,
   "metadata": {},
   "outputs": [
    {
     "name": "stdout",
     "output_type": "stream",
     "text": [
      "./sample_result_submission/xporters_test.predict\n",
      "./sample_result_submission/xporters_train.predict\n",
      "./sample_result_submission/xporters_valid.predict\n"
     ]
    }
   ],
   "source": [
    "# Save the trained model\n",
    "result_name = result_dir + data_name\n",
    "from data_io import write\n",
    "write(result_name + '_train.predict', Y_hat_train)\n",
    "write(result_name + '_valid.predict', Y_hat_valid)\n",
    "write(result_name + '_test.predict', Y_hat_test)\n",
    "!ls $result_name*"
   ]
  },
  {
   "cell_type": "markdown",
   "metadata": {},
   "source": [
    "# <font color=#ff0000>Analysis</font>\n",
    "## <font color=#ff0000>Model selection</font>\n",
    "We have chosen 8 models, one of them is a Voting Regression which takes opinion from 3 others.\n",
    "As you can see, our best model according to its model performance is the Decision Tree Regressor. But after cross-valide, we find it a bit overfitting (91%) so we decide to use Voting Regressor to neutralize it's overfitting by adding the opinion of Random Forest Regressor(similar principle) and Gradient Boosting Regressor(more mathematical for solving such a multi feature problem). And the result is satisfing. We gain a 4% improvement in the validation set<br><br>\n",
    "## <font color=#ff0000>Best model principle</font>\n",
    "The best model we chose is VotingRegressor, it averages the individual predictions to form a final prediction. Which is why we think this might neutralize the overfitting of the Decision Tree Regressor.<br>\n",
    "As for why Decision Tree Regressor overfits, we think this might be caused by its own principle, because it tries to form a tree that exhaust every possible situation, that's why it gains 100% correction in Training set. But we don't want that because weather-traffic problem is not a problem of exhaustion. It's about choosing the most influential feature and judge on that. So that's why we think Gradient Boosting Regressor suits such a problem.<br><br>\n",
    "## <font color=#ff0000>Hyperparameter</font>\n",
    "We analyzed several hyperparameters like alpha in linear model, max depth in decision tree model, even random seed (just want to see how this could mislead the GridSearch). We find that for our model, there's not a big space for us to optimize the hyperparameters. Fist we didn't really dig into the algorithm of these model so we wouldn't know exactly where our hyperparameter works. But we do understand their basic function, we did use what GridSearch proposed us.<br>\n",
    "We think for others, like more mathematical models, a huge amount of work about hyperparameter optimization is surly needed.<br><br>\n",
    "## <font color=#ff0000>Cross-Valide</font>\n",
    "Cross-Valide makes us reconsider how to choice a model without knowing its best hyperparameters and influences by the training set. The answer might be that we don't know. Decision Tree Regressor does have the best performance, and it's 100%, obviously we can't expect that for Validation set even test set. And our best hyperparameter might not fit the validation set or even the future usage. So even though we have GridSearch and other APIs that provide us a easier way, we might need a better way to find best model and best hyperparameters.<br><br>\n",
    "## <font color=#ff0000>Futher improvement</font>\n",
    "The range of parameters we use when we looks for the best parameters doesn't necessarily include best hyperparameters. And it suits only the training set, how do we make sure it's best for all sets?<br>\n",
    "By analyzing the data, there are many irrelevant variables that we have not excluded. If we can filter the variables first, we might have more option on models and parameters.<br>"
   ]
  },
  {
   "cell_type": "markdown",
   "metadata": {},
   "source": [
    "# Pre-processing + Model"
   ]
  },
  {
   "cell_type": "code",
   "execution_count": 20,
   "metadata": {},
   "outputs": [],
   "source": [
    "# Model Imports\n",
    "from sklearn import linear_model\n",
    "from sklearn.tree import DecisionTreeRegressor\n",
    "from sklearn import svm\n",
    "from sklearn.kernel_ridge import KernelRidge\n",
    "from sklearn.neighbors import KNeighborsRegressor\n",
    "from sklearn.ensemble import RandomForestRegressor\n",
    "from sklearn.ensemble import GradientBoostingRegressor\n",
    "from sklearn.tree import ExtraTreeRegressor\n",
    "from sklearn.gaussian_process import GaussianProcessRegressor\n",
    "from sklearn.linear_model import ElasticNet\n",
    "from sklearn.linear_model import LinearRegression\n",
    "from sklearn.ensemble import VotingRegressor\n",
    "from sklearn.ensemble import StackingRegressor"
   ]
  },
  {
   "cell_type": "code",
   "execution_count": 21,
   "metadata": {},
   "outputs": [],
   "source": [
    "# Preprocessing Imports\n",
    "from sklearn.ensemble import IsolationForest\n",
    "from sklearn.manifold import TSNE\n",
    "from sklearn.preprocessing import StandardScaler\n",
    "from sklearn.decomposition import PCA\n",
    "from sklearn.feature_selection import SelectKBest, f_regression\n",
    "from sklearn.decomposition import TruncatedSVD\n",
    "from sklearn.neighbors import LocalOutlierFactor"
   ]
  },
  {
   "cell_type": "code",
   "execution_count": 22,
   "metadata": {},
   "outputs": [],
   "source": [
    "# Scoring fonction\n",
    "score_dir = 'scoring_program/'\n",
    "path.append(score_dir)\n",
    "from libscores import get_metric\n",
    "metric_name, scoring_function = get_metric()\n",
    "from sklearn.metrics import make_scorer\n",
    "from sklearn.model_selection import cross_val_score"
   ]
  },
  {
   "cell_type": "code",
   "execution_count": 23,
   "metadata": {},
   "outputs": [],
   "source": [
    "# Model List\n",
    "voter1 = GradientBoostingRegressor()\n",
    "voter2 = RandomForestRegressor()\n",
    "voter3 = DecisionTreeRegressor()\n",
    "\n",
    "model_name = [\n",
    "    'KNeighbors',\n",
    "    'SVR',\n",
    "    'GaussianProcess',\n",
    "    'ElasticNet',\n",
    "    'DecisionTree',\n",
    "    'RandomForest',\n",
    "    'GradientBoosting',\n",
    "    'Voting - GB - DT',\n",
    "    'Voting - GB - DT - RF']\n",
    "\n",
    "model_list = [\n",
    "    KNeighborsRegressor(n_neighbors=5),\n",
    "    svm.SVR(),\n",
    "    GaussianProcessRegressor(), \n",
    "    ElasticNet(),\n",
    "    DecisionTreeRegressor(),\n",
    "    RandomForestRegressor(max_depth=9),\n",
    "    GradientBoostingRegressor(),\n",
    "    VotingRegressor(estimators=[('gb', voter1), ('lr', voter3)]),\n",
    "    VotingRegressor(estimators=[('gb', voter1), ('rf', voter2), ('lr', voter3)])]"
   ]
  },
  {
   "cell_type": "code",
   "execution_count": 24,
   "metadata": {},
   "outputs": [],
   "source": [
    "def score_data(data_test,Y,data_name) :\n",
    "    res = {}\n",
    "    perf = []\n",
    "    X = data_test\n",
    "    for i in range(len(model_list)) :\n",
    "        model = model_list[i]\n",
    "        s = cross_val_score(model, X, Y, cv=5, scoring=make_scorer(scoring_function))\n",
    "        s = s.mean(), s.std() * 2\n",
    "        print('CV score for the', model_name[i], '= %0.2f (+/- %0.2f)' %s)\n",
    "        res[data_name+' - '+model_name[i]] = s[0]\n",
    "        if s[0]<0:\n",
    "            perf.append(0)\n",
    "        else:\n",
    "            perf.append(round(s[0],3))\n",
    "    print('\\n')\n",
    "    return res,perf"
   ]
  },
  {
   "cell_type": "code",
   "execution_count": 25,
   "metadata": {},
   "outputs": [
    {
     "name": "stdout",
     "output_type": "stream",
     "text": [
      "Shuffle Complete\n",
      "Remove Outlier Complete\n",
      "Scaler Complete\n",
      "PCA Complete\n",
      "SVD Complete\n",
      "TSNE Complete\n"
     ]
    }
   ],
   "source": [
    "preprocessing_name = [\n",
    "    'Raw data',\n",
    "    'Remove Outliers',\n",
    "    'PCA',\n",
    "    'SVD',\n",
    "    'TSNE'\n",
    "]\n",
    "\n",
    "# Shuffle data\n",
    "shuffle = data.copy()\n",
    "shuffle = shuffle.reindex(np.random.permutation(shuffle.index))\n",
    "shuffle = shuffle.head(3000)\n",
    "Y_raw = shuffle.iloc[:,-1]\n",
    "print(\"Shuffle Complete\")\n",
    "\n",
    "# Remove Outliers\n",
    "outliers = shuffle.copy()\n",
    "outliers['outliers'] = pd.Series(LocalOutlierFactor(n_neighbors= 200).fit_predict(outliers), \n",
    "                                 index = outliers.index)\n",
    "outliers = outliers[outliers['outliers'] == 1]\n",
    "outliers = outliers.drop('outliers', 1)\n",
    "Y = outliers.iloc[:,-1]\n",
    "print(\"Remove Outlier Complete\")\n",
    "\n",
    "# Scaler\n",
    "scaled_data = StandardScaler().fit_transform(outliers)\n",
    "scaled_data = pd.DataFrame(scaled_data)\n",
    "print(\"Scaler Complete\")\n",
    "\n",
    "# PCA\n",
    "pca = PCA(n_components = 4).fit_transform(scaled_data)\n",
    "pca = pd.DataFrame(pca)\n",
    "print(\"PCA Complete\")\n",
    "\n",
    "# SVD\n",
    "svd = TruncatedSVD(n_components=4).fit_transform(scaled_data)\n",
    "svd = pd.DataFrame(svd)\n",
    "print(\"SVD Complete\")\n",
    "\n",
    "# TSNE\n",
    "tsne = TSNE().fit_transform(scaled_data)\n",
    "tsne = pd.DataFrame(tsne)\n",
    "print(\"TSNE Complete\")"
   ]
  },
  {
   "cell_type": "code",
   "execution_count": 26,
   "metadata": {},
   "outputs": [
    {
     "name": "stdout",
     "output_type": "stream",
     "text": [
      "score - data original: \n",
      "CV score for the KNeighbors = 0.52 (+/- 0.07)\n",
      "CV score for the SVR = -0.00 (+/- 0.01)\n",
      "CV score for the GaussianProcess = -2.75 (+/- 0.34)\n",
      "CV score for the ElasticNet = -20.51 (+/- 82.64)\n",
      "CV score for the DecisionTree = 0.85 (+/- 0.03)\n",
      "CV score for the RandomForest = 0.93 (+/- 0.02)\n",
      "CV score for the GradientBoosting = 0.91 (+/- 0.02)\n",
      "CV score for the Voting - GB - DT = 0.91 (+/- 0.02)\n",
      "CV score for the Voting - GB - DT - RF = 0.92 (+/- 0.02)\n",
      "\n",
      "\n",
      "score - data no outliers: \n",
      "CV score for the KNeighbors = 0.52 (+/- 0.08)\n",
      "CV score for the SVR = -0.01 (+/- 0.01)\n",
      "CV score for the GaussianProcess = -2.76 (+/- 0.34)\n",
      "CV score for the ElasticNet = 0.15 (+/- 0.08)\n",
      "CV score for the DecisionTree = 0.87 (+/- 0.03)\n",
      "CV score for the RandomForest = 0.93 (+/- 0.02)\n",
      "CV score for the GradientBoosting = 0.91 (+/- 0.01)\n",
      "CV score for the Voting - GB - DT = 0.91 (+/- 0.02)\n",
      "CV score for the Voting - GB - DT - RF = 0.92 (+/- 0.02)\n",
      "\n",
      "\n",
      "score - data of PCA: \n",
      "CV score for the KNeighbors = 0.56 (+/- 0.06)\n",
      "CV score for the SVR = 0.01 (+/- 0.01)\n",
      "CV score for the GaussianProcess = -18364.56 (+/- 42063.30)\n",
      "CV score for the ElasticNet = 0.08 (+/- 0.03)\n",
      "CV score for the DecisionTree = 0.20 (+/- 0.05)\n",
      "CV score for the RandomForest = 0.54 (+/- 0.04)\n",
      "CV score for the GradientBoosting = 0.50 (+/- 0.06)\n",
      "CV score for the Voting - GB - DT = 0.47 (+/- 0.03)\n",
      "CV score for the Voting - GB - DT - RF = 0.52 (+/- 0.04)\n",
      "\n",
      "\n",
      "score - data of SVD: \n",
      "CV score for the KNeighbors = 0.55 (+/- 0.05)\n",
      "CV score for the SVR = 0.01 (+/- 0.01)\n",
      "CV score for the GaussianProcess = -26080.51 (+/- 29970.64)\n",
      "CV score for the ElasticNet = 0.08 (+/- 0.03)\n",
      "CV score for the DecisionTree = 0.19 (+/- 0.11)\n",
      "CV score for the RandomForest = 0.54 (+/- 0.04)\n",
      "CV score for the GradientBoosting = 0.51 (+/- 0.06)\n",
      "CV score for the Voting - GB - DT = 0.47 (+/- 0.07)\n",
      "CV score for the Voting - GB - DT - RF = 0.52 (+/- 0.04)\n",
      "\n",
      "\n",
      "score - data of TSNE: \n",
      "CV score for the KNeighbors = 0.80 (+/- 0.03)\n",
      "CV score for the SVR = 0.01 (+/- 0.01)\n",
      "CV score for the GaussianProcess = -22.22 (+/- 11.47)\n",
      "CV score for the ElasticNet = 0.02 (+/- 0.02)\n",
      "CV score for the DecisionTree = 0.67 (+/- 0.06)\n",
      "CV score for the RandomForest = 0.73 (+/- 0.04)\n",
      "CV score for the GradientBoosting = 0.55 (+/- 0.04)\n",
      "CV score for the Voting - GB - DT = 0.71 (+/- 0.03)\n",
      "CV score for the Voting - GB - DT - RF = 0.76 (+/- 0.03)\n",
      "\n",
      "\n"
     ]
    }
   ],
   "source": [
    "res = {}\n",
    "perf = np.ones((5,9))\n",
    "\n",
    "print('score - data original: ')\n",
    "shuffle = shuffle.iloc[:,:-1]\n",
    "r,p = score_data(shuffle, Y_raw, 'data original')\n",
    "res.update(r)\n",
    "perf[0] = np.array(p)\n",
    "\n",
    "print('score - data no outliers: ')\n",
    "outliers = outliers.iloc[:,:-1]\n",
    "r,p = score_data(outliers, Y, 'data no outliers')\n",
    "res.update(r)\n",
    "perf[1] = np.array(p)\n",
    "\n",
    "print('score - data of PCA: ')\n",
    "r,p = score_data(pca, Y, 'data of PCA')\n",
    "res.update(r)\n",
    "perf[2] = np.array(p)\n",
    "\n",
    "print('score - data of SVD: ')\n",
    "r,p = score_data(svd, Y, 'data of SVD')\n",
    "res.update(r)\n",
    "perf[3] = np.array(p)\n",
    "\n",
    "print('score - data of TSNE: ')\n",
    "r,p = score_data(tsne, Y, 'data of TSNE')\n",
    "res.update(r)\n",
    "perf[4] = np.array(p)"
   ]
  },
  {
   "cell_type": "code",
   "execution_count": 27,
   "metadata": {},
   "outputs": [
    {
     "name": "stdout",
     "output_type": "stream",
     "text": [
      "data no outliers - RandomForest\n"
     ]
    }
   ],
   "source": [
    "print(max(res,key=res.get))"
   ]
  },
  {
   "cell_type": "code",
   "execution_count": 28,
   "metadata": {},
   "outputs": [
    {
     "data": {
      "text/html": [
       "<style  type=\"text/css\" >\n",
       "    #T_39283642_7047_11ea_ba8d_784f436f0e17row0_col0 {\n",
       "            background-color:  #f7fbff;\n",
       "            color:  #000000;\n",
       "        }    #T_39283642_7047_11ea_ba8d_784f436f0e17row0_col1 {\n",
       "            background-color:  #f7fbff;\n",
       "            color:  #000000;\n",
       "        }    #T_39283642_7047_11ea_ba8d_784f436f0e17row0_col2 {\n",
       "            background-color:  #f7fbff;\n",
       "            color:  #000000;\n",
       "        }    #T_39283642_7047_11ea_ba8d_784f436f0e17row0_col3 {\n",
       "            background-color:  #f7fbff;\n",
       "            color:  #000000;\n",
       "        }    #T_39283642_7047_11ea_ba8d_784f436f0e17row0_col4 {\n",
       "            background-color:  #083370;\n",
       "            color:  #f1f1f1;\n",
       "        }    #T_39283642_7047_11ea_ba8d_784f436f0e17row0_col5 {\n",
       "            background-color:  #08306b;\n",
       "            color:  #f1f1f1;\n",
       "        }    #T_39283642_7047_11ea_ba8d_784f436f0e17row0_col6 {\n",
       "            background-color:  #08306b;\n",
       "            color:  #f1f1f1;\n",
       "        }    #T_39283642_7047_11ea_ba8d_784f436f0e17row0_col7 {\n",
       "            background-color:  #08306b;\n",
       "            color:  #f1f1f1;\n",
       "        }    #T_39283642_7047_11ea_ba8d_784f436f0e17row0_col8 {\n",
       "            background-color:  #08306b;\n",
       "            color:  #f1f1f1;\n",
       "        }    #T_39283642_7047_11ea_ba8d_784f436f0e17row1_col0 {\n",
       "            background-color:  #f7fbff;\n",
       "            color:  #000000;\n",
       "        }    #T_39283642_7047_11ea_ba8d_784f436f0e17row1_col1 {\n",
       "            background-color:  #f7fbff;\n",
       "            color:  #000000;\n",
       "        }    #T_39283642_7047_11ea_ba8d_784f436f0e17row1_col2 {\n",
       "            background-color:  #f7fbff;\n",
       "            color:  #000000;\n",
       "        }    #T_39283642_7047_11ea_ba8d_784f436f0e17row1_col3 {\n",
       "            background-color:  #08306b;\n",
       "            color:  #f1f1f1;\n",
       "        }    #T_39283642_7047_11ea_ba8d_784f436f0e17row1_col4 {\n",
       "            background-color:  #08306b;\n",
       "            color:  #f1f1f1;\n",
       "        }    #T_39283642_7047_11ea_ba8d_784f436f0e17row1_col5 {\n",
       "            background-color:  #08306b;\n",
       "            color:  #f1f1f1;\n",
       "        }    #T_39283642_7047_11ea_ba8d_784f436f0e17row1_col6 {\n",
       "            background-color:  #08306b;\n",
       "            color:  #f1f1f1;\n",
       "        }    #T_39283642_7047_11ea_ba8d_784f436f0e17row1_col7 {\n",
       "            background-color:  #08306b;\n",
       "            color:  #f1f1f1;\n",
       "        }    #T_39283642_7047_11ea_ba8d_784f436f0e17row1_col8 {\n",
       "            background-color:  #08306b;\n",
       "            color:  #f1f1f1;\n",
       "        }    #T_39283642_7047_11ea_ba8d_784f436f0e17row2_col0 {\n",
       "            background-color:  #dbe9f6;\n",
       "            color:  #000000;\n",
       "        }    #T_39283642_7047_11ea_ba8d_784f436f0e17row2_col1 {\n",
       "            background-color:  #08306b;\n",
       "            color:  #f1f1f1;\n",
       "        }    #T_39283642_7047_11ea_ba8d_784f436f0e17row2_col2 {\n",
       "            background-color:  #f7fbff;\n",
       "            color:  #000000;\n",
       "        }    #T_39283642_7047_11ea_ba8d_784f436f0e17row2_col3 {\n",
       "            background-color:  #60a7d2;\n",
       "            color:  #000000;\n",
       "        }    #T_39283642_7047_11ea_ba8d_784f436f0e17row2_col4 {\n",
       "            background-color:  #f5f9fe;\n",
       "            color:  #000000;\n",
       "        }    #T_39283642_7047_11ea_ba8d_784f436f0e17row2_col5 {\n",
       "            background-color:  #f7fbff;\n",
       "            color:  #000000;\n",
       "        }    #T_39283642_7047_11ea_ba8d_784f436f0e17row2_col6 {\n",
       "            background-color:  #f7fbff;\n",
       "            color:  #000000;\n",
       "        }    #T_39283642_7047_11ea_ba8d_784f436f0e17row2_col7 {\n",
       "            background-color:  #f7fbff;\n",
       "            color:  #000000;\n",
       "        }    #T_39283642_7047_11ea_ba8d_784f436f0e17row2_col8 {\n",
       "            background-color:  #f7fbff;\n",
       "            color:  #000000;\n",
       "        }    #T_39283642_7047_11ea_ba8d_784f436f0e17row3_col0 {\n",
       "            background-color:  #e2edf8;\n",
       "            color:  #000000;\n",
       "        }    #T_39283642_7047_11ea_ba8d_784f436f0e17row3_col1 {\n",
       "            background-color:  #08306b;\n",
       "            color:  #f1f1f1;\n",
       "        }    #T_39283642_7047_11ea_ba8d_784f436f0e17row3_col2 {\n",
       "            background-color:  #f7fbff;\n",
       "            color:  #000000;\n",
       "        }    #T_39283642_7047_11ea_ba8d_784f436f0e17row3_col3 {\n",
       "            background-color:  #60a7d2;\n",
       "            color:  #000000;\n",
       "        }    #T_39283642_7047_11ea_ba8d_784f436f0e17row3_col4 {\n",
       "            background-color:  #f7fbff;\n",
       "            color:  #000000;\n",
       "        }    #T_39283642_7047_11ea_ba8d_784f436f0e17row3_col5 {\n",
       "            background-color:  #f7fbff;\n",
       "            color:  #000000;\n",
       "        }    #T_39283642_7047_11ea_ba8d_784f436f0e17row3_col6 {\n",
       "            background-color:  #f2f8fd;\n",
       "            color:  #000000;\n",
       "        }    #T_39283642_7047_11ea_ba8d_784f436f0e17row3_col7 {\n",
       "            background-color:  #f7fbff;\n",
       "            color:  #000000;\n",
       "        }    #T_39283642_7047_11ea_ba8d_784f436f0e17row3_col8 {\n",
       "            background-color:  #f7fbff;\n",
       "            color:  #000000;\n",
       "        }    #T_39283642_7047_11ea_ba8d_784f436f0e17row4_col0 {\n",
       "            background-color:  #08306b;\n",
       "            color:  #f1f1f1;\n",
       "        }    #T_39283642_7047_11ea_ba8d_784f436f0e17row4_col1 {\n",
       "            background-color:  #08306b;\n",
       "            color:  #f1f1f1;\n",
       "        }    #T_39283642_7047_11ea_ba8d_784f436f0e17row4_col2 {\n",
       "            background-color:  #f7fbff;\n",
       "            color:  #000000;\n",
       "        }    #T_39283642_7047_11ea_ba8d_784f436f0e17row4_col3 {\n",
       "            background-color:  #dceaf6;\n",
       "            color:  #000000;\n",
       "        }    #T_39283642_7047_11ea_ba8d_784f436f0e17row4_col4 {\n",
       "            background-color:  #3181bd;\n",
       "            color:  #000000;\n",
       "        }    #T_39283642_7047_11ea_ba8d_784f436f0e17row4_col5 {\n",
       "            background-color:  #71b1d7;\n",
       "            color:  #000000;\n",
       "        }    #T_39283642_7047_11ea_ba8d_784f436f0e17row4_col6 {\n",
       "            background-color:  #dfebf7;\n",
       "            color:  #000000;\n",
       "        }    #T_39283642_7047_11ea_ba8d_784f436f0e17row4_col7 {\n",
       "            background-color:  #5ca4d0;\n",
       "            color:  #000000;\n",
       "        }    #T_39283642_7047_11ea_ba8d_784f436f0e17row4_col8 {\n",
       "            background-color:  #4a98c9;\n",
       "            color:  #000000;\n",
       "        }</style><table id=\"T_39283642_7047_11ea_ba8d_784f436f0e17\" ><thead>    <tr>        <th class=\"blank level0\" ></th>        <th class=\"col_heading level0 col0\" >KNeighbors</th>        <th class=\"col_heading level0 col1\" >SVR</th>        <th class=\"col_heading level0 col2\" >GaussianProcess</th>        <th class=\"col_heading level0 col3\" >ElasticNet</th>        <th class=\"col_heading level0 col4\" >DecisionTree</th>        <th class=\"col_heading level0 col5\" >RandomForest</th>        <th class=\"col_heading level0 col6\" >GradientBoosting</th>        <th class=\"col_heading level0 col7\" >Voting - GB - DT</th>        <th class=\"col_heading level0 col8\" >Voting - GB - DT - RF</th>    </tr></thead><tbody>\n",
       "                <tr>\n",
       "                        <th id=\"T_39283642_7047_11ea_ba8d_784f436f0e17level0_row0\" class=\"row_heading level0 row0\" >Raw data</th>\n",
       "                        <td id=\"T_39283642_7047_11ea_ba8d_784f436f0e17row0_col0\" class=\"data row0 col0\" >0.520000</td>\n",
       "                        <td id=\"T_39283642_7047_11ea_ba8d_784f436f0e17row0_col1\" class=\"data row0 col1\" >0.000000</td>\n",
       "                        <td id=\"T_39283642_7047_11ea_ba8d_784f436f0e17row0_col2\" class=\"data row0 col2\" >0.000000</td>\n",
       "                        <td id=\"T_39283642_7047_11ea_ba8d_784f436f0e17row0_col3\" class=\"data row0 col3\" >0.000000</td>\n",
       "                        <td id=\"T_39283642_7047_11ea_ba8d_784f436f0e17row0_col4\" class=\"data row0 col4\" >0.860000</td>\n",
       "                        <td id=\"T_39283642_7047_11ea_ba8d_784f436f0e17row0_col5\" class=\"data row0 col5\" >0.930000</td>\n",
       "                        <td id=\"T_39283642_7047_11ea_ba8d_784f436f0e17row0_col6\" class=\"data row0 col6\" >0.910000</td>\n",
       "                        <td id=\"T_39283642_7047_11ea_ba8d_784f436f0e17row0_col7\" class=\"data row0 col7\" >0.910000</td>\n",
       "                        <td id=\"T_39283642_7047_11ea_ba8d_784f436f0e17row0_col8\" class=\"data row0 col8\" >0.920000</td>\n",
       "            </tr>\n",
       "            <tr>\n",
       "                        <th id=\"T_39283642_7047_11ea_ba8d_784f436f0e17level0_row1\" class=\"row_heading level0 row1\" >Remove Outliers</th>\n",
       "                        <td id=\"T_39283642_7047_11ea_ba8d_784f436f0e17row1_col0\" class=\"data row1 col0\" >0.520000</td>\n",
       "                        <td id=\"T_39283642_7047_11ea_ba8d_784f436f0e17row1_col1\" class=\"data row1 col1\" >0.000000</td>\n",
       "                        <td id=\"T_39283642_7047_11ea_ba8d_784f436f0e17row1_col2\" class=\"data row1 col2\" >0.000000</td>\n",
       "                        <td id=\"T_39283642_7047_11ea_ba8d_784f436f0e17row1_col3\" class=\"data row1 col3\" >0.150000</td>\n",
       "                        <td id=\"T_39283642_7047_11ea_ba8d_784f436f0e17row1_col4\" class=\"data row1 col4\" >0.870000</td>\n",
       "                        <td id=\"T_39283642_7047_11ea_ba8d_784f436f0e17row1_col5\" class=\"data row1 col5\" >0.930000</td>\n",
       "                        <td id=\"T_39283642_7047_11ea_ba8d_784f436f0e17row1_col6\" class=\"data row1 col6\" >0.910000</td>\n",
       "                        <td id=\"T_39283642_7047_11ea_ba8d_784f436f0e17row1_col7\" class=\"data row1 col7\" >0.910000</td>\n",
       "                        <td id=\"T_39283642_7047_11ea_ba8d_784f436f0e17row1_col8\" class=\"data row1 col8\" >0.920000</td>\n",
       "            </tr>\n",
       "            <tr>\n",
       "                        <th id=\"T_39283642_7047_11ea_ba8d_784f436f0e17level0_row2\" class=\"row_heading level0 row2\" >PCA</th>\n",
       "                        <td id=\"T_39283642_7047_11ea_ba8d_784f436f0e17row2_col0\" class=\"data row2 col0\" >0.560000</td>\n",
       "                        <td id=\"T_39283642_7047_11ea_ba8d_784f436f0e17row2_col1\" class=\"data row2 col1\" >0.010000</td>\n",
       "                        <td id=\"T_39283642_7047_11ea_ba8d_784f436f0e17row2_col2\" class=\"data row2 col2\" >0.000000</td>\n",
       "                        <td id=\"T_39283642_7047_11ea_ba8d_784f436f0e17row2_col3\" class=\"data row2 col3\" >0.080000</td>\n",
       "                        <td id=\"T_39283642_7047_11ea_ba8d_784f436f0e17row2_col4\" class=\"data row2 col4\" >0.200000</td>\n",
       "                        <td id=\"T_39283642_7047_11ea_ba8d_784f436f0e17row2_col5\" class=\"data row2 col5\" >0.540000</td>\n",
       "                        <td id=\"T_39283642_7047_11ea_ba8d_784f436f0e17row2_col6\" class=\"data row2 col6\" >0.500000</td>\n",
       "                        <td id=\"T_39283642_7047_11ea_ba8d_784f436f0e17row2_col7\" class=\"data row2 col7\" >0.470000</td>\n",
       "                        <td id=\"T_39283642_7047_11ea_ba8d_784f436f0e17row2_col8\" class=\"data row2 col8\" >0.520000</td>\n",
       "            </tr>\n",
       "            <tr>\n",
       "                        <th id=\"T_39283642_7047_11ea_ba8d_784f436f0e17level0_row3\" class=\"row_heading level0 row3\" >SVD</th>\n",
       "                        <td id=\"T_39283642_7047_11ea_ba8d_784f436f0e17row3_col0\" class=\"data row3 col0\" >0.550000</td>\n",
       "                        <td id=\"T_39283642_7047_11ea_ba8d_784f436f0e17row3_col1\" class=\"data row3 col1\" >0.010000</td>\n",
       "                        <td id=\"T_39283642_7047_11ea_ba8d_784f436f0e17row3_col2\" class=\"data row3 col2\" >0.000000</td>\n",
       "                        <td id=\"T_39283642_7047_11ea_ba8d_784f436f0e17row3_col3\" class=\"data row3 col3\" >0.080000</td>\n",
       "                        <td id=\"T_39283642_7047_11ea_ba8d_784f436f0e17row3_col4\" class=\"data row3 col4\" >0.190000</td>\n",
       "                        <td id=\"T_39283642_7047_11ea_ba8d_784f436f0e17row3_col5\" class=\"data row3 col5\" >0.540000</td>\n",
       "                        <td id=\"T_39283642_7047_11ea_ba8d_784f436f0e17row3_col6\" class=\"data row3 col6\" >0.510000</td>\n",
       "                        <td id=\"T_39283642_7047_11ea_ba8d_784f436f0e17row3_col7\" class=\"data row3 col7\" >0.470000</td>\n",
       "                        <td id=\"T_39283642_7047_11ea_ba8d_784f436f0e17row3_col8\" class=\"data row3 col8\" >0.520000</td>\n",
       "            </tr>\n",
       "            <tr>\n",
       "                        <th id=\"T_39283642_7047_11ea_ba8d_784f436f0e17level0_row4\" class=\"row_heading level0 row4\" >TSNE</th>\n",
       "                        <td id=\"T_39283642_7047_11ea_ba8d_784f436f0e17row4_col0\" class=\"data row4 col0\" >0.800000</td>\n",
       "                        <td id=\"T_39283642_7047_11ea_ba8d_784f436f0e17row4_col1\" class=\"data row4 col1\" >0.010000</td>\n",
       "                        <td id=\"T_39283642_7047_11ea_ba8d_784f436f0e17row4_col2\" class=\"data row4 col2\" >0.000000</td>\n",
       "                        <td id=\"T_39283642_7047_11ea_ba8d_784f436f0e17row4_col3\" class=\"data row4 col3\" >0.020000</td>\n",
       "                        <td id=\"T_39283642_7047_11ea_ba8d_784f436f0e17row4_col4\" class=\"data row4 col4\" >0.660000</td>\n",
       "                        <td id=\"T_39283642_7047_11ea_ba8d_784f436f0e17row4_col5\" class=\"data row4 col5\" >0.730000</td>\n",
       "                        <td id=\"T_39283642_7047_11ea_ba8d_784f436f0e17row4_col6\" class=\"data row4 col6\" >0.550000</td>\n",
       "                        <td id=\"T_39283642_7047_11ea_ba8d_784f436f0e17row4_col7\" class=\"data row4 col7\" >0.710000</td>\n",
       "                        <td id=\"T_39283642_7047_11ea_ba8d_784f436f0e17row4_col8\" class=\"data row4 col8\" >0.760000</td>\n",
       "            </tr>\n",
       "    </tbody></table>"
      ],
      "text/plain": [
       "<pandas.io.formats.style.Styler at 0x1a1e72f290>"
      ]
     },
     "execution_count": 28,
     "metadata": {},
     "output_type": "execute_result"
    }
   ],
   "source": [
    "com_perf = pd.DataFrame(perf, columns=model_name, index=preprocessing_name)\n",
    "com_perf = com_perf.round(2)\n",
    "com_perf.round(2).style.background_gradient(cmap='Blues')"
   ]
  },
  {
   "cell_type": "markdown",
   "metadata": {},
   "source": [
    "<div>\n",
    "    <h2>Scoring the results</h2>\n",
    "    <h3>Load the challenge metric</h3>\n",
    "    <p>\n",
    "<b>The metric chosen for your challenge</b> is identified in the \"metric.txt\" file found in the `scoring_function/` directory. The function \"get_metric\" searches first for a metric having that name in my_metric.py, then in libscores.py, then in sklearn.metric.\n",
    "    </div>"
   ]
  },
  {
   "cell_type": "code",
   "execution_count": 29,
   "metadata": {},
   "outputs": [
    {
     "name": "stdout",
     "output_type": "stream",
     "text": [
      "Using scoring metric: r2_metric\n"
     ]
    }
   ],
   "source": [
    "from libscores import get_metric\n",
    "metric_name, scoring_function = get_metric()\n",
    "print('Using scoring metric:', metric_name)"
   ]
  },
  {
   "cell_type": "markdown",
   "metadata": {},
   "source": [
    "<div>\n",
    "    <h3> Training performance </h3>\n",
    "    <p>\n",
    "The participants normally posess target values (labels) only for training examples (except for the sample data). We compute with the `example` metric the training score, which should be zero for perfect predictions.\n",
    "        </div>"
   ]
  },
  {
   "cell_type": "code",
   "execution_count": 31,
   "metadata": {},
   "outputs": [
    {
     "data": {
      "text/plain": [
       "array([[ 684.76072485, 3981.47390984, 3464.3858651 , ..., 5968.9520705 ,\n",
       "        4099.79696496, 5194.0510161 ],\n",
       "       [ 759.        , 4085.        , 3528.        , ..., 6591.        ,\n",
       "        4366.        , 5240.        ]])"
      ]
     },
     "execution_count": 31,
     "metadata": {},
     "output_type": "execute_result"
    }
   ],
   "source": [
    "np.vstack((Y_hat_train,Y_train))"
   ]
  },
  {
   "cell_type": "code",
   "execution_count": 32,
   "metadata": {},
   "outputs": [
    {
     "name": "stdout",
     "output_type": "stream",
     "text": [
      "Training score for the r2_metric metric = 0.9857\n",
      "Ideal score for the r2_metric metric = 1.0000\n"
     ]
    }
   ],
   "source": [
    "print('Training score for the', metric_name, 'metric = %5.4f' % scoring_function(Y_train, Y_hat_train))\n",
    "print('Ideal score for the', metric_name, 'metric = %5.4f' % scoring_function(Y_train, Y_train))\n",
    "# Here we think DecisionTreeRegressor might be the best option, but we can't still get a nice accuracy.\n",
    "# We thought this might because we haven't found a better regressionor or it's because we havn't get a data from pre-processing groupe"
   ]
  },
  {
   "cell_type": "markdown",
   "metadata": {},
   "source": [
    "You can add here other scores and result visualization."
   ]
  },
  {
   "cell_type": "code",
   "execution_count": 33,
   "metadata": {},
   "outputs": [
    {
     "data": {
      "image/png": "[encoded data removed]",
      "text/plain": [
       "<Figure size 432x288 with 1 Axes>"
      ]
     },
     "metadata": {},
     "output_type": "display_data"
    }
   ],
   "source": [
    "plt.scatter(Y_train, Y_hat_train, alpha ='0.5', s = 1 )\n",
    "plt.show()"
   ]
  },
  {
   "cell_type": "markdown",
   "metadata": {},
   "source": [
    "<div>\n",
    "    <h3>Cross-validation performance</h3>\n",
    "    <p>\n",
    "The participants do not have access to the labels Y_valid and Y_test to self-assess their validation and test performances. But training performance is not a good prediction of validation or test performance. Using cross-validation, the training data is split into multiple training/test folds, which allows participants to self-assess their model during development. The average CV result and 95% confidence interval is displayed.\n",
    "   </div>"
   ]
  },
  {
   "cell_type": "code",
   "execution_count": 34,
   "metadata": {},
   "outputs": [
    {
     "name": "stdout",
     "output_type": "stream",
     "text": [
      "\n",
      "CV score (95 perc. CI): 0.94 (+/- 0.00)\n"
     ]
    }
   ],
   "source": [
    "from sklearn.metrics import make_scorer\n",
    "from sklearn.model_selection import cross_val_score\n",
    "scores = cross_val_score(M, X_train, Y_train, cv=5, scoring=make_scorer(scoring_function))\n",
    "print('\\nCV score (95 perc. CI): %0.2f (+/- %0.2f)' % (scores.mean(), scores.std() * 2))"
   ]
  },
  {
   "cell_type": "code",
   "execution_count": null,
   "metadata": {},
   "outputs": [],
   "source": []
  }
 ],
 "metadata": {
  "kernelspec": {
   "display_name": "Python 3",
   "language": "python",
   "name": "python3"
  },
  "language_info": {
   "codemirror_mode": {
    "name": "ipython",
    "version": 3
   },
   "file_extension": ".py",
   "mimetype": "text/x-python",
   "name": "python",
   "nbconvert_exporter": "python",
   "pygments_lexer": "ipython3",
   "version": "3.7.7"
  }
 },
 "nbformat": 4,
 "nbformat_minor": 4
}
